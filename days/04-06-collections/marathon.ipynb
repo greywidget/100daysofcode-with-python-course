{
 "cells": [
  {
   "cell_type": "code",
   "execution_count": 33,
   "metadata": {},
   "outputs": [
    {
     "data": {
      "text/plain": [
       "[('2:15:25', 2003, 'Paula Radcliffe', 'United Kingdom'),\n",
       " ('2:17:01', 2017, 'Mary Keitany', 'Kenya'),\n",
       " ('2:17:42', 2005, 'Paula Radcliffe', 'United Kingdom'),\n",
       " ('2:18:31', 2018, 'Vivian Cheruiyot', 'Kenya'),\n",
       " ('2:18:37', 2012, 'Mary Keitany', 'Kenya'),\n",
       " ('2:18:56', 2002, 'Paula Radcliffe', 'United Kingdom'),\n",
       " ('2:19:19', 2011, 'Mary Keitany', 'Kenya'),\n",
       " ('2:19:35', 2006, 'Deena Kastor', 'United States'),\n",
       " ('2:20:15', 2013, 'Priscah Jeptoo', 'Kenya'),\n",
       " ('2:20:21', 2014, 'Edna Kiplagat', 'Kenya'),\n",
       " ('2:20:38', 2007, 'Zhou Chunxiu', 'China'),\n",
       " ('2:21:06', 1985, 'Ingrid Kristiansen', 'Norway'),\n",
       " ('2:22:11', 2009, 'Irina Mikitenko', 'Germany'),\n",
       " ('2:22:35', 2004, 'Margaret Okayo', 'Kenya'),\n",
       " ('2:22:38', 2010, 'Aselefech Mergia', 'Ethiopia'),\n",
       " ('2:22:48', 1987, 'Ingrid Kristiansen', 'Norway'),\n",
       " ('2:22:58', 2016, 'Jemima Sumgong', 'Kenya'),\n",
       " ('2:23:21', 2015, 'Tigist Tufa', 'Ethiopia'),\n",
       " ('2:23:22', 1999, 'Joyce Chepchumba', 'Kenya'),\n",
       " ('2:23:57', 2001, 'Derartu Tulu', 'Ethiopia'),\n",
       " ('2:24:14', 2008, 'Irina Mikitenko', 'Germany'),\n",
       " ('2:24:26', 1984, 'Ingrid Kristiansen', 'Norway'),\n",
       " ('2:24:33', 2000, 'Tegla Laroupe', 'Kenya'),\n",
       " ('2:24:54', 1986, 'Grete Waitz', 'Norway'),\n",
       " ('2:25:29', 1983, 'Grete Waitz', 'Norway'),\n",
       " ('2:25:41', 1988, 'Ingrid Kristiansen', 'Norway'),\n",
       " ('2:25:56', 1989, 'Véronique Marot', 'United Kingdom'),\n",
       " ('2:26:14', 1991, 'Rosa Mota', 'Portugal'),\n",
       " ('2:26:26', 1998, 'Catherina McKiernan', 'Ireland'),\n",
       " ('2:26:31', 1990, 'Wanda Panfil', 'Poland'),\n",
       " ('2:26:51', 1997, 'Joyce Chepchumba', 'Kenya'),\n",
       " ('2:27:09', 1993, 'Katrin Dörre-Heinig', 'Germany'),\n",
       " ('2:27:43', 1995, 'Ma?gorzata Soba?ska', 'Poland'),\n",
       " ('2:27:54', 1996, 'Liz McColgan', 'United Kingdom'),\n",
       " ('2:29:39', 1992, 'Katrin Dörre-Heinig', 'Germany'),\n",
       " ('2:29:43', 1982, 'Joyce Smith', 'United Kingdom'),\n",
       " ('2:29:57', 1981, 'Joyce Smith', 'United Kingdom'),\n",
       " ('2:32:34', 1994, 'Katrin Dörre-Heinig', 'Germany')]"
      ]
     },
     "execution_count": 33,
     "metadata": {},
     "output_type": "execute_result"
    }
   ],
   "source": [
    "from csv import DictReader\n",
    "from collections import namedtuple\n",
    "from datetime import timedelta\n",
    "\n",
    "Winner = namedtuple('Winner', 'year athlete nationality time notes')\n",
    "\n",
    "winners = []\n",
    "\n",
    "# with open('Female_Elite_London.csv', encoding='utf-8') as f:\n",
    "with open('Female_Elite_London.csv', encoding='1252') as f:\n",
    "    reader = DictReader(f)\n",
    "    for line in reader:\n",
    "        year = int(line['Year'])\n",
    "        athlete = line['Athlete']\n",
    "        nationality = line['Nationality']\n",
    "        hours, mins, secs = line['Time(h:m:s)'].split(':')\n",
    "        time = timedelta(hours=int(hours), minutes=int(mins), seconds=int(secs))\n",
    "        notes = line['Notes']\n",
    "        winner = Winner(year=year, athlete=athlete, nationality=nationality, time=time, notes=notes)\n",
    "        winners.append(winner) \n",
    "        \n",
    "# sorted(winners, key=lambda x: x[3])\n",
    "[(str(winner.time), winner.year, winner.athlete, winner.nationality) for winner in sorted(winners, key=lambda x: x[3])]"
   ]
  }
 ],
 "metadata": {
  "kernelspec": {
   "display_name": "Python 3",
   "language": "python",
   "name": "python3"
  },
  "language_info": {
   "codemirror_mode": {
    "name": "ipython",
    "version": 3
   },
   "file_extension": ".py",
   "mimetype": "text/x-python",
   "name": "python",
   "nbconvert_exporter": "python",
   "pygments_lexer": "ipython3",
   "version": "3.7.0"
  }
 },
 "nbformat": 4,
 "nbformat_minor": 2
}
